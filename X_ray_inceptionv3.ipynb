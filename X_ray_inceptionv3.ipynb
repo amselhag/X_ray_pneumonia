{
 "cells": [
  {
   "cell_type": "code",
   "execution_count": 1,
   "metadata": {},
   "outputs": [],
   "source": [
    "%matplotlib inline\n",
    "import matplotlib.pyplot as plt\n",
    "import numpy as np\n",
    "import os"
   ]
  },
  {
   "cell_type": "code",
   "execution_count": 2,
   "metadata": {},
   "outputs": [],
   "source": [
    "from sklearn.utils import shuffle\n",
    "from sklearn.model_selection import train_test_split"
   ]
  },
  {
   "cell_type": "code",
   "execution_count": 3,
   "metadata": {},
   "outputs": [
    {
     "name": "stderr",
     "output_type": "stream",
     "text": [
      "Using TensorFlow backend.\n"
     ]
    }
   ],
   "source": [
    "from keras.applications.inception_v3 import (\n",
    "    InceptionV3, preprocess_input, decode_predictions)\n",
    "\n",
    "from keras.preprocessing import image\n",
    "# from keras.applications.imagenet_utils import preprocess_input\n",
    "# from imagenet_utils import decode_predictions\n",
    "\n",
    "from keras.layers import Dense, Activation, Flatten\n",
    "from keras.layers import merge, Input\n",
    "from keras.models import Model\n",
    "from keras.utils import to_categorical, np_utils\n",
    "from keras.models import load_model"
   ]
  },
  {
   "cell_type": "code",
   "execution_count": 4,
   "metadata": {},
   "outputs": [],
   "source": [
    "def preprocess_image(img_path, target_size=(299,299), debug=False):\n",
    "    \"\"\"\n",
    "    img_path - file path to specific image\n",
    "    target_size - tuple of pixel image size\n",
    "    \"\"\"\n",
    "    img = image.load_img(img_path, target_size=(299, 299))\n",
    "    x = image.img_to_array(img)\n",
    "    if debug: print (x.shape)\n",
    "    x = np.expand_dims(x, axis=0)\n",
    "    if debug: print (x.shape)\n",
    "    x = preprocess_input(x)\n",
    "    if debug: print('Input image shape:', x.shape)\n",
    "    return x"
   ]
  },
  {
   "cell_type": "code",
   "execution_count": 5,
   "metadata": {},
   "outputs": [],
   "source": [
    "def get_images(image_dir, label, target_size=(299,299)):\n",
    "    images = os.listdir(image_dir)\n",
    "    preprocessed_images = []\n",
    "    labels = []\n",
    "    for image in images:\n",
    "        image_path = os.path.join(image_dir, image)\n",
    "        x = preprocess_image(image_path, target_size=target_size)\n",
    "        x = np.squeeze(x, axis=0)\n",
    "        preprocessed_images.append(x)\n",
    "        labels.append(label)\n",
    "    return (preprocessed_images, labels)"
   ]
  },
  {
   "cell_type": "code",
   "execution_count": 6,
   "metadata": {},
   "outputs": [],
   "source": [
    "X_train = []\n",
    "y_train = []\n",
    "\n",
    "PATH = os.getcwd()\n",
    "data_path = os.path.join(PATH,'Resources', 'train')\n",
    "categories = ['NORMAL','BACTERIA','VIRUS']\n",
    "categories_map = {category: i for i,category in enumerate(categories)}\n",
    "\n",
    "for category in categories:\n",
    "    image_dir = os.path.join(data_path, category)\n",
    "    (preprocessed_images, labels) = get_images(image_dir, label=categories_map.get(category))\n",
    "    X_train.extend(preprocessed_images)\n",
    "    y_train.extend(labels)\n",
    "X_train = np.array(X_train)\n",
    "y_train = np.array(y_train)\n"
   ]
  },
  {
   "cell_type": "code",
   "execution_count": 7,
   "metadata": {},
   "outputs": [],
   "source": [
    "X_test = []\n",
    "y_test = []\n",
    "\n",
    "PATH = os.getcwd()\n",
    "data_path = os.path.join(PATH,'Resources', 'test')\n",
    "categories = ['NORMAL','BACTERIA','VIRUS']\n",
    "categories_map = {category: i for i,category in enumerate(categories)}\n",
    "\n",
    "for category in categories:\n",
    "    image_dir = os.path.join(data_path, category)\n",
    "    (preprocessed_images, labels) = get_images(image_dir, label=categories_map.get(category))\n",
    "    X_test.extend(preprocessed_images)\n",
    "    y_test.extend(labels)\n",
    "X_test = np.array(X_test)\n",
    "y_test = np.array(y_test)"
   ]
  },
  {
   "cell_type": "code",
   "execution_count": 8,
   "metadata": {},
   "outputs": [
    {
     "data": {
      "text/plain": [
       "{'NORMAL': 0, 'BACTERIA': 1, 'VIRUS': 2}"
      ]
     },
     "execution_count": 8,
     "metadata": {},
     "output_type": "execute_result"
    }
   ],
   "source": [
    "categories_map"
   ]
  },
  {
   "cell_type": "code",
   "execution_count": 9,
   "metadata": {},
   "outputs": [
    {
     "data": {
      "text/plain": [
       "Counter({0: 1341, 1: 2530, 2: 1345})"
      ]
     },
     "execution_count": 9,
     "metadata": {},
     "output_type": "execute_result"
    }
   ],
   "source": [
    "from collections import Counter\n",
    "Counter(y_train)"
   ]
  },
  {
   "cell_type": "code",
   "execution_count": 10,
   "metadata": {},
   "outputs": [],
   "source": [
    "# Define the number of classes\n",
    "num_classes = len(categories)\n",
    "# convert class labels to on-hot encoding\n",
    "y_train = np_utils.to_categorical(y_train, num_classes)\n"
   ]
  },
  {
   "cell_type": "code",
   "execution_count": 11,
   "metadata": {},
   "outputs": [
    {
     "data": {
      "text/plain": [
       "(5216, 3)"
      ]
     },
     "execution_count": 11,
     "metadata": {},
     "output_type": "execute_result"
    }
   ],
   "source": [
    "y_train.shape"
   ]
  },
  {
   "cell_type": "code",
   "execution_count": 12,
   "metadata": {},
   "outputs": [],
   "source": [
    "y_test=np_utils.to_categorical(y_test, num_classes)"
   ]
  },
  {
   "cell_type": "code",
   "execution_count": 13,
   "metadata": {},
   "outputs": [
    {
     "data": {
      "text/plain": [
       "(624, 3)"
      ]
     },
     "execution_count": 13,
     "metadata": {},
     "output_type": "execute_result"
    }
   ],
   "source": [
    "y_test.shape"
   ]
  },
  {
   "cell_type": "code",
   "execution_count": 18,
   "metadata": {},
   "outputs": [],
   "source": [
    "input = Input(shape=(299, 299, 3))\n",
    "base_model = InceptionV3(include_top=False, weights='imagenet', input_tensor=input, input_shape=(299, 299, 3), pooling='avg', classes=1000)\n",
    "for l in base_model.layers:\n",
    "    l.trainable = False\n",
    "\n",
    "t = base_model(input)\n",
    "o = Dense(3, activation='softmax')(t)\n",
    "model = Model(inputs=input, outputs=o)\n",
    "\n",
    "model.compile(loss='categorical_crossentropy', optimizer='adam', metrics=['accuracy'])"
   ]
  },
  {
   "cell_type": "code",
   "execution_count": 19,
   "metadata": {},
   "outputs": [
    {
     "name": "stdout",
     "output_type": "stream",
     "text": [
      "Train on 5216 samples, validate on 624 samples\n",
      "Epoch 1/3\n",
      "5216/5216 [==============================] - 672s 129ms/step - loss: 0.8252 - acc: 0.6296 - val_loss: 1.2209 - val_acc: 0.4551\n",
      "Epoch 2/3\n",
      "5216/5216 [==============================] - 682s 131ms/step - loss: 0.6340 - acc: 0.7343 - val_loss: 0.9434 - val_acc: 0.5833\n",
      "Epoch 3/3\n",
      "5216/5216 [==============================] - 683s 131ms/step - loss: 0.5951 - acc: 0.7544 - val_loss: 1.1862 - val_acc: 0.4022\n"
     ]
    }
   ],
   "source": [
    "history = model.fit(X_train, y_train, batch_size=64, validation_data = (X_test , y_test), epochs=3, verbose=1)"
   ]
  },
  {
   "cell_type": "code",
   "execution_count": 20,
   "metadata": {},
   "outputs": [
    {
     "name": "stdout",
     "output_type": "stream",
     "text": [
      "_________________________________________________________________\n",
      "Layer (type)                 Output Shape              Param #   \n",
      "=================================================================\n",
      "input_3 (InputLayer)         (None, 299, 299, 3)       0         \n",
      "_________________________________________________________________\n",
      "inception_v3 (Model)         (None, 2048)              21802784  \n",
      "_________________________________________________________________\n",
      "dense_3 (Dense)              (None, 3)                 6147      \n",
      "=================================================================\n",
      "Total params: 21,808,931\n",
      "Trainable params: 6,147\n",
      "Non-trainable params: 21,802,784\n",
      "_________________________________________________________________\n",
      "None\n"
     ]
    }
   ],
   "source": [
    "print(model.summary())"
   ]
  },
  {
   "cell_type": "code",
   "execution_count": 21,
   "metadata": {},
   "outputs": [
    {
     "data": {
      "image/png": "[encoded data removed]",
      "text/plain": [
       "<Figure size 504x360 with 1 Axes>"
      ]
     },
     "metadata": {
      "needs_background": "light"
     },
     "output_type": "display_data"
    },
    {
     "data": {
      "image/png": "[encoded data removed]",
      "text/plain": [
       "<Figure size 560x400 with 1 Axes>"
      ]
     },
     "metadata": {},
     "output_type": "display_data"
    }
   ],
   "source": [
    "%matplotlib inline\n",
    "import matplotlib.pyplot as plt\n",
    "# visualizing losses and accuracy\n",
    "train_loss=history.history['loss']\n",
    "val_loss=history.history['val_loss']\n",
    "train_acc=history.history['acc']\n",
    "val_acc=history.history['val_acc']\n",
    "xc=range(3)\n",
    "\n",
    "plt.figure(1,figsize=(7,5))\n",
    "plt.plot(xc,train_loss)\n",
    "plt.plot(xc,val_loss)\n",
    "plt.xlabel('num of Epochs')\n",
    "plt.ylabel('loss')\n",
    "plt.title('train_loss vs val_loss')\n",
    "plt.grid(True)\n",
    "plt.legend(['train','val'])\n",
    "#print plt.style.available # use bmh, classic,ggplot for big pictures\n",
    "plt.style.use(['classic'])\n",
    "\n",
    "plt.figure(2,figsize=(7,5))\n",
    "plt.plot(xc,train_acc)\n",
    "plt.plot(xc,val_acc)\n",
    "plt.xlabel('num of Epochs')\n",
    "plt.ylabel('accuracy')\n",
    "plt.title('train_acc vs val_acc')\n",
    "plt.grid(True)\n",
    "plt.legend(['train','val'],loc=4)\n",
    "#print plt.style.available # use bmh, classic,ggplot for big pictures\n",
    "plt.style.use(['classic'])"
   ]
  },
  {
   "cell_type": "code",
   "execution_count": 22,
   "metadata": {},
   "outputs": [],
   "source": [
    "model.save(\"custom_inceptionv3.h5\")"
   ]
  },
  {
   "cell_type": "code",
   "execution_count": null,
   "metadata": {},
   "outputs": [],
   "source": []
  }
 ],
 "metadata": {
  "kernelspec": {
   "display_name": "ut-keras",
   "language": "python",
   "name": "ut-keras"
  },
  "language_info": {
   "codemirror_mode": {
    "name": "ipython",
    "version": 3
   },
   "file_extension": ".py",
   "mimetype": "text/x-python",
   "name": "python",
   "nbconvert_exporter": "python",
   "pygments_lexer": "ipython3",
   "version": "3.6.8"
  }
 },
 "nbformat": 4,
 "nbformat_minor": 2
}
